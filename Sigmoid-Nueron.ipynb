{
 "cells": [
  {
   "cell_type": "code",
   "execution_count": 320,
   "metadata": {},
   "outputs": [],
   "source": [
    "import numpy as np\n",
    "import pandas as pd\n",
    "import sklearn.datasets\n",
    "from sklearn.model_selection import train_test_split\n",
    "from sklearn.preprocessing import StandardScaler,MinMaxScaler\n",
    "from sklearn.metrics import mean_squared_error,accuracy_score\n",
    "from sklearn.linear_model import LinearRegression\n",
    "from tqdm import tqdm_notebook\n",
    "import matplotlib.pyplot as plt"
   ]
  },
  {
   "cell_type": "markdown",
   "metadata": {},
   "source": [
    "# Sigmoid Nueron Model Class"
   ]
  },
  {
   "cell_type": "code",
   "execution_count": 403,
   "metadata": {},
   "outputs": [],
   "source": [
    "class sigmoid_model:\n",
    "    def __init__(self):\n",
    "        self.b=None\n",
    "        self.w=None\n",
    "    def sigmoid(self,x):\n",
    "        return ( 1.0/(1.0 + np.exp(- (np.dot(x,self.w.T)  + self.b ) )) )\n",
    "    def predict(self,X):\n",
    "        Y_pred=[]\n",
    "        for x in X:\n",
    "            Y_pred.append( self.sigmoid(x) )\n",
    "        return np.asarray(Y_pred)\n",
    "    def compute_grad_w(self,x,y):\n",
    "        return( (1-self.sigmoid(x)) * ( self.sigmoid(x) - y ) * ( self.sigmoid(x)) * (x))\n",
    "    def compute_grad_b(self,x,y):\n",
    "        return( (1-self.sigmoid(x)) * ( self.sigmoid(x) - y ) * ( self.sigmoid(x)) * (1.0))\n",
    "    def fit(self,X,Y,learning_rate=1,epochs=1,initialize=True,display_loss=False):\n",
    "        if(initialize):\n",
    "            self.w=np.random.randn(1,X.shape[1])\n",
    "            self.b=0\n",
    "        if(display_loss):\n",
    "            loss={}\n",
    "        for epoch in tqdm_notebook(range(epochs),total=epochs,unit=\"epoch\"):\n",
    "            dw=0\n",
    "            db=0\n",
    "            for x,y in zip(X,Y):\n",
    "                dw += self.compute_grad_w(x,y)\n",
    "                db += self.compute_grad_b(x,y)\n",
    "            self.w= self.w - (learning_rate * dw)\n",
    "            self.b= self.b - (learning_rate * db)\n",
    "            if(display_loss):\n",
    "                Y_pred=self.sigmoid(X)\n",
    "                loss[epoch]=mean_squared_error(Y_pred,Y)\n",
    "        if(display_loss):\n",
    "            loss.values()\n",
    "            plt.plot(np.array(list(loss.values())).astype(\"float\"))\n",
    "            plt.xlabel('epochs')\n",
    "            plt.ylabel('Mean Squared Loss')\n",
    "            plt.show()\n",
    "            "
   ]
  },
  {
   "cell_type": "markdown",
   "metadata": {},
   "source": [
    "# Testing whether this model is working or not"
   ]
  },
  {
   "cell_type": "code",
   "execution_count": 146,
   "metadata": {},
   "outputs": [],
   "source": [
    "sigmoid=sigmoid_model()"
   ]
  },
  {
   "cell_type": "code",
   "execution_count": 147,
   "metadata": {},
   "outputs": [],
   "source": [
    "X=[[2,4],[5,3],[1,2],[7,10],[23,65]]\n",
    "X=np.asarray(X)\n",
    "Y=[1,1,0,0,1]"
   ]
  },
  {
   "cell_type": "code",
   "execution_count": 148,
   "metadata": {},
   "outputs": [],
   "source": [
    "sigmoid.fit(X,Y,learning_rate=0.25,epochs=2)"
   ]
  },
  {
   "cell_type": "code",
   "execution_count": 149,
   "metadata": {},
   "outputs": [],
   "source": [
    "Y_pred=sigmoid.predict(X)"
   ]
  },
  {
   "cell_type": "code",
   "execution_count": 150,
   "metadata": {},
   "outputs": [
    {
     "data": {
      "text/plain": [
       "array([0.99698995, 0.99958253, 0.94845359, 0.99999993, 1.        ])"
      ]
     },
     "execution_count": 150,
     "metadata": {},
     "output_type": "execute_result"
    }
   ],
   "source": [
    "Y_pred"
   ]
  },
  {
   "cell_type": "markdown",
   "metadata": {},
   "source": [
    "# Now on Dataset"
   ]
  },
  {
   "cell_type": "code",
   "execution_count": 355,
   "metadata": {},
   "outputs": [],
   "source": [
    "data=sklearn.datasets.load_boston()"
   ]
  },
  {
   "cell_type": "code",
   "execution_count": 356,
   "metadata": {},
   "outputs": [
    {
     "data": {
      "text/plain": [
       "{'data': array([[6.3200e-03, 1.8000e+01, 2.3100e+00, ..., 1.5300e+01, 3.9690e+02,\n",
       "         4.9800e+00],\n",
       "        [2.7310e-02, 0.0000e+00, 7.0700e+00, ..., 1.7800e+01, 3.9690e+02,\n",
       "         9.1400e+00],\n",
       "        [2.7290e-02, 0.0000e+00, 7.0700e+00, ..., 1.7800e+01, 3.9283e+02,\n",
       "         4.0300e+00],\n",
       "        ...,\n",
       "        [6.0760e-02, 0.0000e+00, 1.1930e+01, ..., 2.1000e+01, 3.9690e+02,\n",
       "         5.6400e+00],\n",
       "        [1.0959e-01, 0.0000e+00, 1.1930e+01, ..., 2.1000e+01, 3.9345e+02,\n",
       "         6.4800e+00],\n",
       "        [4.7410e-02, 0.0000e+00, 1.1930e+01, ..., 2.1000e+01, 3.9690e+02,\n",
       "         7.8800e+00]]),\n",
       " 'target': array([24. , 21.6, 34.7, 33.4, 36.2, 28.7, 22.9, 27.1, 16.5, 18.9, 15. ,\n",
       "        18.9, 21.7, 20.4, 18.2, 19.9, 23.1, 17.5, 20.2, 18.2, 13.6, 19.6,\n",
       "        15.2, 14.5, 15.6, 13.9, 16.6, 14.8, 18.4, 21. , 12.7, 14.5, 13.2,\n",
       "        13.1, 13.5, 18.9, 20. , 21. , 24.7, 30.8, 34.9, 26.6, 25.3, 24.7,\n",
       "        21.2, 19.3, 20. , 16.6, 14.4, 19.4, 19.7, 20.5, 25. , 23.4, 18.9,\n",
       "        35.4, 24.7, 31.6, 23.3, 19.6, 18.7, 16. , 22.2, 25. , 33. , 23.5,\n",
       "        19.4, 22. , 17.4, 20.9, 24.2, 21.7, 22.8, 23.4, 24.1, 21.4, 20. ,\n",
       "        20.8, 21.2, 20.3, 28. , 23.9, 24.8, 22.9, 23.9, 26.6, 22.5, 22.2,\n",
       "        23.6, 28.7, 22.6, 22. , 22.9, 25. , 20.6, 28.4, 21.4, 38.7, 43.8,\n",
       "        33.2, 27.5, 26.5, 18.6, 19.3, 20.1, 19.5, 19.5, 20.4, 19.8, 19.4,\n",
       "        21.7, 22.8, 18.8, 18.7, 18.5, 18.3, 21.2, 19.2, 20.4, 19.3, 22. ,\n",
       "        20.3, 20.5, 17.3, 18.8, 21.4, 15.7, 16.2, 18. , 14.3, 19.2, 19.6,\n",
       "        23. , 18.4, 15.6, 18.1, 17.4, 17.1, 13.3, 17.8, 14. , 14.4, 13.4,\n",
       "        15.6, 11.8, 13.8, 15.6, 14.6, 17.8, 15.4, 21.5, 19.6, 15.3, 19.4,\n",
       "        17. , 15.6, 13.1, 41.3, 24.3, 23.3, 27. , 50. , 50. , 50. , 22.7,\n",
       "        25. , 50. , 23.8, 23.8, 22.3, 17.4, 19.1, 23.1, 23.6, 22.6, 29.4,\n",
       "        23.2, 24.6, 29.9, 37.2, 39.8, 36.2, 37.9, 32.5, 26.4, 29.6, 50. ,\n",
       "        32. , 29.8, 34.9, 37. , 30.5, 36.4, 31.1, 29.1, 50. , 33.3, 30.3,\n",
       "        34.6, 34.9, 32.9, 24.1, 42.3, 48.5, 50. , 22.6, 24.4, 22.5, 24.4,\n",
       "        20. , 21.7, 19.3, 22.4, 28.1, 23.7, 25. , 23.3, 28.7, 21.5, 23. ,\n",
       "        26.7, 21.7, 27.5, 30.1, 44.8, 50. , 37.6, 31.6, 46.7, 31.5, 24.3,\n",
       "        31.7, 41.7, 48.3, 29. , 24. , 25.1, 31.5, 23.7, 23.3, 22. , 20.1,\n",
       "        22.2, 23.7, 17.6, 18.5, 24.3, 20.5, 24.5, 26.2, 24.4, 24.8, 29.6,\n",
       "        42.8, 21.9, 20.9, 44. , 50. , 36. , 30.1, 33.8, 43.1, 48.8, 31. ,\n",
       "        36.5, 22.8, 30.7, 50. , 43.5, 20.7, 21.1, 25.2, 24.4, 35.2, 32.4,\n",
       "        32. , 33.2, 33.1, 29.1, 35.1, 45.4, 35.4, 46. , 50. , 32.2, 22. ,\n",
       "        20.1, 23.2, 22.3, 24.8, 28.5, 37.3, 27.9, 23.9, 21.7, 28.6, 27.1,\n",
       "        20.3, 22.5, 29. , 24.8, 22. , 26.4, 33.1, 36.1, 28.4, 33.4, 28.2,\n",
       "        22.8, 20.3, 16.1, 22.1, 19.4, 21.6, 23.8, 16.2, 17.8, 19.8, 23.1,\n",
       "        21. , 23.8, 23.1, 20.4, 18.5, 25. , 24.6, 23. , 22.2, 19.3, 22.6,\n",
       "        19.8, 17.1, 19.4, 22.2, 20.7, 21.1, 19.5, 18.5, 20.6, 19. , 18.7,\n",
       "        32.7, 16.5, 23.9, 31.2, 17.5, 17.2, 23.1, 24.5, 26.6, 22.9, 24.1,\n",
       "        18.6, 30.1, 18.2, 20.6, 17.8, 21.7, 22.7, 22.6, 25. , 19.9, 20.8,\n",
       "        16.8, 21.9, 27.5, 21.9, 23.1, 50. , 50. , 50. , 50. , 50. , 13.8,\n",
       "        13.8, 15. , 13.9, 13.3, 13.1, 10.2, 10.4, 10.9, 11.3, 12.3,  8.8,\n",
       "         7.2, 10.5,  7.4, 10.2, 11.5, 15.1, 23.2,  9.7, 13.8, 12.7, 13.1,\n",
       "        12.5,  8.5,  5. ,  6.3,  5.6,  7.2, 12.1,  8.3,  8.5,  5. , 11.9,\n",
       "        27.9, 17.2, 27.5, 15. , 17.2, 17.9, 16.3,  7. ,  7.2,  7.5, 10.4,\n",
       "         8.8,  8.4, 16.7, 14.2, 20.8, 13.4, 11.7,  8.3, 10.2, 10.9, 11. ,\n",
       "         9.5, 14.5, 14.1, 16.1, 14.3, 11.7, 13.4,  9.6,  8.7,  8.4, 12.8,\n",
       "        10.5, 17.1, 18.4, 15.4, 10.8, 11.8, 14.9, 12.6, 14.1, 13. , 13.4,\n",
       "        15.2, 16.1, 17.8, 14.9, 14.1, 12.7, 13.5, 14.9, 20. , 16.4, 17.7,\n",
       "        19.5, 20.2, 21.4, 19.9, 19. , 19.1, 19.1, 20.1, 19.9, 19.6, 23.2,\n",
       "        29.8, 13.8, 13.3, 16.7, 12. , 14.6, 21.4, 23. , 23.7, 25. , 21.8,\n",
       "        20.6, 21.2, 19.1, 20.6, 15.2,  7. ,  8.1, 13.6, 20.1, 21.8, 24.5,\n",
       "        23.1, 19.7, 18.3, 21.2, 17.5, 16.8, 22.4, 20.6, 23.9, 22. , 11.9]),\n",
       " 'feature_names': array(['CRIM', 'ZN', 'INDUS', 'CHAS', 'NOX', 'RM', 'AGE', 'DIS', 'RAD',\n",
       "        'TAX', 'PTRATIO', 'B', 'LSTAT'], dtype='<U7'),\n",
       " 'DESCR': \".. _boston_dataset:\\n\\nBoston house prices dataset\\n---------------------------\\n\\n**Data Set Characteristics:**  \\n\\n    :Number of Instances: 506 \\n\\n    :Number of Attributes: 13 numeric/categorical predictive. Median Value (attribute 14) is usually the target.\\n\\n    :Attribute Information (in order):\\n        - CRIM     per capita crime rate by town\\n        - ZN       proportion of residential land zoned for lots over 25,000 sq.ft.\\n        - INDUS    proportion of non-retail business acres per town\\n        - CHAS     Charles River dummy variable (= 1 if tract bounds river; 0 otherwise)\\n        - NOX      nitric oxides concentration (parts per 10 million)\\n        - RM       average number of rooms per dwelling\\n        - AGE      proportion of owner-occupied units built prior to 1940\\n        - DIS      weighted distances to five Boston employment centres\\n        - RAD      index of accessibility to radial highways\\n        - TAX      full-value property-tax rate per $10,000\\n        - PTRATIO  pupil-teacher ratio by town\\n        - B        1000(Bk - 0.63)^2 where Bk is the proportion of blacks by town\\n        - LSTAT    % lower status of the population\\n        - MEDV     Median value of owner-occupied homes in $1000's\\n\\n    :Missing Attribute Values: None\\n\\n    :Creator: Harrison, D. and Rubinfeld, D.L.\\n\\nThis is a copy of UCI ML housing dataset.\\nhttps://archive.ics.uci.edu/ml/machine-learning-databases/housing/\\n\\n\\nThis dataset was taken from the StatLib library which is maintained at Carnegie Mellon University.\\n\\nThe Boston house-price data of Harrison, D. and Rubinfeld, D.L. 'Hedonic\\nprices and the demand for clean air', J. Environ. Economics & Management,\\nvol.5, 81-102, 1978.   Used in Belsley, Kuh & Welsch, 'Regression diagnostics\\n...', Wiley, 1980.   N.B. Various transformations are used in the table on\\npages 244-261 of the latter.\\n\\nThe Boston house-price data has been used in many machine learning papers that address regression\\nproblems.   \\n     \\n.. topic:: References\\n\\n   - Belsley, Kuh & Welsch, 'Regression diagnostics: Identifying Influential Data and Sources of Collinearity', Wiley, 1980. 244-261.\\n   - Quinlan,R. (1993). Combining Instance-Based and Model-Based Learning. In Proceedings on the Tenth International Conference of Machine Learning, 236-243, University of Massachusetts, Amherst. Morgan Kaufmann.\\n\",\n",
       " 'filename': '/home/akansh/anaconda3/lib/python3.7/site-packages/sklearn/datasets/data/boston_house_prices.csv'}"
      ]
     },
     "execution_count": 356,
     "metadata": {},
     "output_type": "execute_result"
    }
   ],
   "source": [
    "data"
   ]
  },
  {
   "cell_type": "markdown",
   "metadata": {},
   "source": [
    "# Splitting into X and Y"
   ]
  },
  {
   "cell_type": "code",
   "execution_count": 357,
   "metadata": {},
   "outputs": [],
   "source": [
    "X=data.data"
   ]
  },
  {
   "cell_type": "code",
   "execution_count": 358,
   "metadata": {},
   "outputs": [],
   "source": [
    "X=pd.DataFrame(X)"
   ]
  },
  {
   "cell_type": "code",
   "execution_count": 359,
   "metadata": {},
   "outputs": [
    {
     "data": {
      "text/html": [
       "<div>\n",
       "<style scoped>\n",
       "    .dataframe tbody tr th:only-of-type {\n",
       "        vertical-align: middle;\n",
       "    }\n",
       "\n",
       "    .dataframe tbody tr th {\n",
       "        vertical-align: top;\n",
       "    }\n",
       "\n",
       "    .dataframe thead th {\n",
       "        text-align: right;\n",
       "    }\n",
       "</style>\n",
       "<table border=\"1\" class=\"dataframe\">\n",
       "  <thead>\n",
       "    <tr style=\"text-align: right;\">\n",
       "      <th></th>\n",
       "      <th>0</th>\n",
       "      <th>1</th>\n",
       "      <th>2</th>\n",
       "      <th>3</th>\n",
       "      <th>4</th>\n",
       "      <th>5</th>\n",
       "      <th>6</th>\n",
       "      <th>7</th>\n",
       "      <th>8</th>\n",
       "      <th>9</th>\n",
       "      <th>10</th>\n",
       "      <th>11</th>\n",
       "      <th>12</th>\n",
       "    </tr>\n",
       "  </thead>\n",
       "  <tbody>\n",
       "    <tr>\n",
       "      <td>0</td>\n",
       "      <td>0.00632</td>\n",
       "      <td>18.0</td>\n",
       "      <td>2.31</td>\n",
       "      <td>0.0</td>\n",
       "      <td>0.538</td>\n",
       "      <td>6.575</td>\n",
       "      <td>65.2</td>\n",
       "      <td>4.0900</td>\n",
       "      <td>1.0</td>\n",
       "      <td>296.0</td>\n",
       "      <td>15.3</td>\n",
       "      <td>396.90</td>\n",
       "      <td>4.98</td>\n",
       "    </tr>\n",
       "    <tr>\n",
       "      <td>1</td>\n",
       "      <td>0.02731</td>\n",
       "      <td>0.0</td>\n",
       "      <td>7.07</td>\n",
       "      <td>0.0</td>\n",
       "      <td>0.469</td>\n",
       "      <td>6.421</td>\n",
       "      <td>78.9</td>\n",
       "      <td>4.9671</td>\n",
       "      <td>2.0</td>\n",
       "      <td>242.0</td>\n",
       "      <td>17.8</td>\n",
       "      <td>396.90</td>\n",
       "      <td>9.14</td>\n",
       "    </tr>\n",
       "    <tr>\n",
       "      <td>2</td>\n",
       "      <td>0.02729</td>\n",
       "      <td>0.0</td>\n",
       "      <td>7.07</td>\n",
       "      <td>0.0</td>\n",
       "      <td>0.469</td>\n",
       "      <td>7.185</td>\n",
       "      <td>61.1</td>\n",
       "      <td>4.9671</td>\n",
       "      <td>2.0</td>\n",
       "      <td>242.0</td>\n",
       "      <td>17.8</td>\n",
       "      <td>392.83</td>\n",
       "      <td>4.03</td>\n",
       "    </tr>\n",
       "    <tr>\n",
       "      <td>3</td>\n",
       "      <td>0.03237</td>\n",
       "      <td>0.0</td>\n",
       "      <td>2.18</td>\n",
       "      <td>0.0</td>\n",
       "      <td>0.458</td>\n",
       "      <td>6.998</td>\n",
       "      <td>45.8</td>\n",
       "      <td>6.0622</td>\n",
       "      <td>3.0</td>\n",
       "      <td>222.0</td>\n",
       "      <td>18.7</td>\n",
       "      <td>394.63</td>\n",
       "      <td>2.94</td>\n",
       "    </tr>\n",
       "    <tr>\n",
       "      <td>4</td>\n",
       "      <td>0.06905</td>\n",
       "      <td>0.0</td>\n",
       "      <td>2.18</td>\n",
       "      <td>0.0</td>\n",
       "      <td>0.458</td>\n",
       "      <td>7.147</td>\n",
       "      <td>54.2</td>\n",
       "      <td>6.0622</td>\n",
       "      <td>3.0</td>\n",
       "      <td>222.0</td>\n",
       "      <td>18.7</td>\n",
       "      <td>396.90</td>\n",
       "      <td>5.33</td>\n",
       "    </tr>\n",
       "  </tbody>\n",
       "</table>\n",
       "</div>"
      ],
      "text/plain": [
       "         0     1     2    3      4      5     6       7    8      9    10  \\\n",
       "0  0.00632  18.0  2.31  0.0  0.538  6.575  65.2  4.0900  1.0  296.0  15.3   \n",
       "1  0.02731   0.0  7.07  0.0  0.469  6.421  78.9  4.9671  2.0  242.0  17.8   \n",
       "2  0.02729   0.0  7.07  0.0  0.469  7.185  61.1  4.9671  2.0  242.0  17.8   \n",
       "3  0.03237   0.0  2.18  0.0  0.458  6.998  45.8  6.0622  3.0  222.0  18.7   \n",
       "4  0.06905   0.0  2.18  0.0  0.458  7.147  54.2  6.0622  3.0  222.0  18.7   \n",
       "\n",
       "       11    12  \n",
       "0  396.90  4.98  \n",
       "1  396.90  9.14  \n",
       "2  392.83  4.03  \n",
       "3  394.63  2.94  \n",
       "4  396.90  5.33  "
      ]
     },
     "execution_count": 359,
     "metadata": {},
     "output_type": "execute_result"
    }
   ],
   "source": [
    "X.head()"
   ]
  },
  {
   "cell_type": "code",
   "execution_count": 360,
   "metadata": {},
   "outputs": [],
   "source": [
    "Y=data.target"
   ]
  },
  {
   "cell_type": "code",
   "execution_count": 361,
   "metadata": {},
   "outputs": [
    {
     "data": {
      "text/plain": [
       "array([24. , 21.6, 34.7, 33.4, 36.2, 28.7, 22.9, 27.1, 16.5, 18.9, 15. ,\n",
       "       18.9, 21.7, 20.4, 18.2, 19.9, 23.1, 17.5, 20.2, 18.2, 13.6, 19.6,\n",
       "       15.2, 14.5, 15.6, 13.9, 16.6, 14.8, 18.4, 21. , 12.7, 14.5, 13.2,\n",
       "       13.1, 13.5, 18.9, 20. , 21. , 24.7, 30.8, 34.9, 26.6, 25.3, 24.7,\n",
       "       21.2, 19.3, 20. , 16.6, 14.4, 19.4, 19.7, 20.5, 25. , 23.4, 18.9,\n",
       "       35.4, 24.7, 31.6, 23.3, 19.6, 18.7, 16. , 22.2, 25. , 33. , 23.5,\n",
       "       19.4, 22. , 17.4, 20.9, 24.2, 21.7, 22.8, 23.4, 24.1, 21.4, 20. ,\n",
       "       20.8, 21.2, 20.3, 28. , 23.9, 24.8, 22.9, 23.9, 26.6, 22.5, 22.2,\n",
       "       23.6, 28.7, 22.6, 22. , 22.9, 25. , 20.6, 28.4, 21.4, 38.7, 43.8,\n",
       "       33.2, 27.5, 26.5, 18.6, 19.3, 20.1, 19.5, 19.5, 20.4, 19.8, 19.4,\n",
       "       21.7, 22.8, 18.8, 18.7, 18.5, 18.3, 21.2, 19.2, 20.4, 19.3, 22. ,\n",
       "       20.3, 20.5, 17.3, 18.8, 21.4, 15.7, 16.2, 18. , 14.3, 19.2, 19.6,\n",
       "       23. , 18.4, 15.6, 18.1, 17.4, 17.1, 13.3, 17.8, 14. , 14.4, 13.4,\n",
       "       15.6, 11.8, 13.8, 15.6, 14.6, 17.8, 15.4, 21.5, 19.6, 15.3, 19.4,\n",
       "       17. , 15.6, 13.1, 41.3, 24.3, 23.3, 27. , 50. , 50. , 50. , 22.7,\n",
       "       25. , 50. , 23.8, 23.8, 22.3, 17.4, 19.1, 23.1, 23.6, 22.6, 29.4,\n",
       "       23.2, 24.6, 29.9, 37.2, 39.8, 36.2, 37.9, 32.5, 26.4, 29.6, 50. ,\n",
       "       32. , 29.8, 34.9, 37. , 30.5, 36.4, 31.1, 29.1, 50. , 33.3, 30.3,\n",
       "       34.6, 34.9, 32.9, 24.1, 42.3, 48.5, 50. , 22.6, 24.4, 22.5, 24.4,\n",
       "       20. , 21.7, 19.3, 22.4, 28.1, 23.7, 25. , 23.3, 28.7, 21.5, 23. ,\n",
       "       26.7, 21.7, 27.5, 30.1, 44.8, 50. , 37.6, 31.6, 46.7, 31.5, 24.3,\n",
       "       31.7, 41.7, 48.3, 29. , 24. , 25.1, 31.5, 23.7, 23.3, 22. , 20.1,\n",
       "       22.2, 23.7, 17.6, 18.5, 24.3, 20.5, 24.5, 26.2, 24.4, 24.8, 29.6,\n",
       "       42.8, 21.9, 20.9, 44. , 50. , 36. , 30.1, 33.8, 43.1, 48.8, 31. ,\n",
       "       36.5, 22.8, 30.7, 50. , 43.5, 20.7, 21.1, 25.2, 24.4, 35.2, 32.4,\n",
       "       32. , 33.2, 33.1, 29.1, 35.1, 45.4, 35.4, 46. , 50. , 32.2, 22. ,\n",
       "       20.1, 23.2, 22.3, 24.8, 28.5, 37.3, 27.9, 23.9, 21.7, 28.6, 27.1,\n",
       "       20.3, 22.5, 29. , 24.8, 22. , 26.4, 33.1, 36.1, 28.4, 33.4, 28.2,\n",
       "       22.8, 20.3, 16.1, 22.1, 19.4, 21.6, 23.8, 16.2, 17.8, 19.8, 23.1,\n",
       "       21. , 23.8, 23.1, 20.4, 18.5, 25. , 24.6, 23. , 22.2, 19.3, 22.6,\n",
       "       19.8, 17.1, 19.4, 22.2, 20.7, 21.1, 19.5, 18.5, 20.6, 19. , 18.7,\n",
       "       32.7, 16.5, 23.9, 31.2, 17.5, 17.2, 23.1, 24.5, 26.6, 22.9, 24.1,\n",
       "       18.6, 30.1, 18.2, 20.6, 17.8, 21.7, 22.7, 22.6, 25. , 19.9, 20.8,\n",
       "       16.8, 21.9, 27.5, 21.9, 23.1, 50. , 50. , 50. , 50. , 50. , 13.8,\n",
       "       13.8, 15. , 13.9, 13.3, 13.1, 10.2, 10.4, 10.9, 11.3, 12.3,  8.8,\n",
       "        7.2, 10.5,  7.4, 10.2, 11.5, 15.1, 23.2,  9.7, 13.8, 12.7, 13.1,\n",
       "       12.5,  8.5,  5. ,  6.3,  5.6,  7.2, 12.1,  8.3,  8.5,  5. , 11.9,\n",
       "       27.9, 17.2, 27.5, 15. , 17.2, 17.9, 16.3,  7. ,  7.2,  7.5, 10.4,\n",
       "        8.8,  8.4, 16.7, 14.2, 20.8, 13.4, 11.7,  8.3, 10.2, 10.9, 11. ,\n",
       "        9.5, 14.5, 14.1, 16.1, 14.3, 11.7, 13.4,  9.6,  8.7,  8.4, 12.8,\n",
       "       10.5, 17.1, 18.4, 15.4, 10.8, 11.8, 14.9, 12.6, 14.1, 13. , 13.4,\n",
       "       15.2, 16.1, 17.8, 14.9, 14.1, 12.7, 13.5, 14.9, 20. , 16.4, 17.7,\n",
       "       19.5, 20.2, 21.4, 19.9, 19. , 19.1, 19.1, 20.1, 19.9, 19.6, 23.2,\n",
       "       29.8, 13.8, 13.3, 16.7, 12. , 14.6, 21.4, 23. , 23.7, 25. , 21.8,\n",
       "       20.6, 21.2, 19.1, 20.6, 15.2,  7. ,  8.1, 13.6, 20.1, 21.8, 24.5,\n",
       "       23.1, 19.7, 18.3, 21.2, 17.5, 16.8, 22.4, 20.6, 23.9, 22. , 11.9])"
      ]
     },
     "execution_count": 361,
     "metadata": {},
     "output_type": "execute_result"
    }
   ],
   "source": [
    "Y"
   ]
  },
  {
   "cell_type": "code",
   "execution_count": 362,
   "metadata": {},
   "outputs": [
    {
     "data": {
      "text/plain": [
       "(506, 13)"
      ]
     },
     "execution_count": 362,
     "metadata": {},
     "output_type": "execute_result"
    }
   ],
   "source": [
    "X.shape"
   ]
  },
  {
   "cell_type": "code",
   "execution_count": 363,
   "metadata": {},
   "outputs": [
    {
     "data": {
      "text/plain": [
       "(506,)"
      ]
     },
     "execution_count": 363,
     "metadata": {},
     "output_type": "execute_result"
    }
   ],
   "source": [
    "Y.shape"
   ]
  },
  {
   "cell_type": "markdown",
   "metadata": {},
   "source": [
    "# Splitting into Test and Train Dataset"
   ]
  },
  {
   "cell_type": "code",
   "execution_count": 365,
   "metadata": {},
   "outputs": [],
   "source": [
    "X_train,X_test,Y_train,Y_test=train_test_split(X,Y,test_size=0.20,random_state=2)"
   ]
  },
  {
   "cell_type": "code",
   "execution_count": 367,
   "metadata": {},
   "outputs": [
    {
     "name": "stdout",
     "output_type": "stream",
     "text": [
      "(404, 13)\n",
      "(102, 13)\n",
      "(404,)\n",
      "(102,)\n"
     ]
    }
   ],
   "source": [
    "print(X_train.shape)\n",
    "print(X_test.shape)\n",
    "print(Y_train.shape)\n",
    "print(Y_test.shape)"
   ]
  },
  {
   "cell_type": "markdown",
   "metadata": {},
   "source": [
    "# Standarization"
   ]
  },
  {
   "cell_type": "code",
   "execution_count": 368,
   "metadata": {},
   "outputs": [],
   "source": [
    "scaler=StandardScaler()"
   ]
  },
  {
   "cell_type": "code",
   "execution_count": 369,
   "metadata": {},
   "outputs": [],
   "source": [
    "X_scaled_train=scaler.fit_transform(X_train)"
   ]
  },
  {
   "cell_type": "code",
   "execution_count": 370,
   "metadata": {},
   "outputs": [],
   "source": [
    "X_scaled_test=scaler.transform(X_test)"
   ]
  },
  {
   "cell_type": "code",
   "execution_count": 371,
   "metadata": {},
   "outputs": [],
   "source": [
    "# Y_scaled_train=scaler.fit_transform(Y_train.reshape(-1,1))"
   ]
  },
  {
   "cell_type": "code",
   "execution_count": 372,
   "metadata": {},
   "outputs": [],
   "source": [
    "# Y_scaled_test=scaler.transform(Y_test.reshape(-1,1))"
   ]
  },
  {
   "cell_type": "code",
   "execution_count": 373,
   "metadata": {},
   "outputs": [
    {
     "name": "stdout",
     "output_type": "stream",
     "text": [
      "(404, 13)\n",
      "(102, 13)\n"
     ]
    }
   ],
   "source": [
    "print(X_scaled_train.shape)\n",
    "print(X_scaled_test.shape)\n",
    "# print(Y_scaled_train.shape)\n",
    "# print(Y_scaled_test.shape)"
   ]
  },
  {
   "cell_type": "code",
   "execution_count": 385,
   "metadata": {
    "collapsed": true
   },
   "outputs": [
    {
     "data": {
      "text/plain": [
       "array([[0.40222222],\n",
       "       [0.35555556],\n",
       "       [0.33555556],\n",
       "       [0.66      ],\n",
       "       [0.19777778],\n",
       "       [0.18888889],\n",
       "       [0.37777778],\n",
       "       [0.22666667],\n",
       "       [0.13111111],\n",
       "       [0.39333333],\n",
       "       [0.19555556],\n",
       "       [0.01333333],\n",
       "       [0.55111111],\n",
       "       [1.        ],\n",
       "       [0.66444444],\n",
       "       [0.34666667],\n",
       "       [0.40888889],\n",
       "       [0.31555556],\n",
       "       [0.61555556],\n",
       "       [0.32444444],\n",
       "       [0.48888889],\n",
       "       [0.07555556],\n",
       "       [0.91111111],\n",
       "       [0.37111111],\n",
       "       [0.49111111],\n",
       "       [0.32      ],\n",
       "       [0.31777778],\n",
       "       [0.44      ],\n",
       "       [0.39111111],\n",
       "       [0.59333333],\n",
       "       [0.3       ],\n",
       "       [0.08222222],\n",
       "       [0.27555556],\n",
       "       [0.41555556],\n",
       "       [0.18444444],\n",
       "       [0.12222222],\n",
       "       [0.17111111],\n",
       "       [0.44444444],\n",
       "       [0.32666667],\n",
       "       [0.22      ],\n",
       "       [0.42666667],\n",
       "       [0.44444444],\n",
       "       [0.22      ],\n",
       "       [0.26666667],\n",
       "       [0.23555556],\n",
       "       [0.17111111],\n",
       "       [0.43333333],\n",
       "       [0.22222222],\n",
       "       [1.        ],\n",
       "       [0.27777778],\n",
       "       [0.36      ],\n",
       "       [0.6       ],\n",
       "       [0.23555556],\n",
       "       [0.39777778],\n",
       "       [0.31777778],\n",
       "       [0.30444444],\n",
       "       [0.40666667],\n",
       "       [0.71555556],\n",
       "       [0.55777778],\n",
       "       [0.62444444],\n",
       "       [0.35555556],\n",
       "       [1.        ],\n",
       "       [0.18666667],\n",
       "       [0.        ],\n",
       "       [0.25555556],\n",
       "       [0.07555556],\n",
       "       [0.52666667],\n",
       "       [0.32222222],\n",
       "       [0.34666667],\n",
       "       [0.89777778],\n",
       "       [0.77333333],\n",
       "       [0.63111111],\n",
       "       [0.32888889],\n",
       "       [0.63111111],\n",
       "       [0.45111111],\n",
       "       [1.        ],\n",
       "       [0.16666667],\n",
       "       [0.27555556],\n",
       "       [0.30222222],\n",
       "       [0.39111111],\n",
       "       [1.        ],\n",
       "       [0.41777778],\n",
       "       [0.40666667],\n",
       "       [0.40222222],\n",
       "       [0.81555556],\n",
       "       [0.24666667],\n",
       "       [0.59111111],\n",
       "       [0.69111111],\n",
       "       [0.04444444],\n",
       "       [0.34222222],\n",
       "       [0.33333333],\n",
       "       [0.15555556],\n",
       "       [0.44444444],\n",
       "       [1.        ],\n",
       "       [0.73111111],\n",
       "       [0.40222222],\n",
       "       [0.80666667],\n",
       "       [0.28      ],\n",
       "       [0.25111111],\n",
       "       [0.55777778],\n",
       "       [0.39777778],\n",
       "       [0.32888889],\n",
       "       [0.26888889],\n",
       "       [0.30888889],\n",
       "       [0.30888889],\n",
       "       [0.39111111],\n",
       "       [0.40444444],\n",
       "       [0.62666667],\n",
       "       [0.22222222],\n",
       "       [0.14888889],\n",
       "       [0.30666667],\n",
       "       [0.35111111],\n",
       "       [0.28888889],\n",
       "       [0.32444444],\n",
       "       [1.        ],\n",
       "       [0.27111111],\n",
       "       [0.25333333],\n",
       "       [0.27777778],\n",
       "       [0.21333333],\n",
       "       [0.62444444],\n",
       "       [0.21111111],\n",
       "       [0.86222222],\n",
       "       [0.66444444],\n",
       "       [0.34222222],\n",
       "       [0.21333333],\n",
       "       [0.06888889],\n",
       "       [0.15111111],\n",
       "       [0.15111111],\n",
       "       [0.30444444],\n",
       "       [0.02888889],\n",
       "       [0.42222222],\n",
       "       [0.18      ],\n",
       "       [0.32444444],\n",
       "       [1.        ],\n",
       "       [0.38444444],\n",
       "       [0.30888889],\n",
       "       [0.58222222],\n",
       "       [0.34888889],\n",
       "       [0.60444444],\n",
       "       [0.69333333],\n",
       "       [0.20444444],\n",
       "       [0.23777778],\n",
       "       [1.        ],\n",
       "       [0.34222222],\n",
       "       [0.24888889],\n",
       "       [0.18666667],\n",
       "       [1.        ],\n",
       "       [0.59111111],\n",
       "       [0.16222222],\n",
       "       [0.31555556],\n",
       "       [0.55111111],\n",
       "       [0.58888889],\n",
       "       [0.39555556],\n",
       "       [0.11555556],\n",
       "       [0.42444444],\n",
       "       [0.41555556],\n",
       "       [0.37777778],\n",
       "       [0.19555556],\n",
       "       [0.52      ],\n",
       "       [0.62666667],\n",
       "       [0.18      ],\n",
       "       [0.31111111],\n",
       "       [0.48      ],\n",
       "       [0.71111111],\n",
       "       [0.57333333],\n",
       "       [0.39555556],\n",
       "       [0.11555556],\n",
       "       [0.38222222],\n",
       "       [0.43333333],\n",
       "       [0.69333333],\n",
       "       [0.40222222],\n",
       "       [0.33555556],\n",
       "       [0.32222222],\n",
       "       [0.12888889],\n",
       "       [0.39333333],\n",
       "       [0.32222222],\n",
       "       [0.33555556],\n",
       "       [0.10222222],\n",
       "       [0.84      ],\n",
       "       [0.97333333],\n",
       "       [0.18      ],\n",
       "       [0.34      ],\n",
       "       [0.44      ],\n",
       "       [0.20222222],\n",
       "       [0.37111111],\n",
       "       [0.38222222],\n",
       "       [0.62222222],\n",
       "       [0.35777778],\n",
       "       [0.44444444],\n",
       "       [0.31333333],\n",
       "       [0.60888889],\n",
       "       [0.19111111],\n",
       "       [0.22444444],\n",
       "       [0.40222222],\n",
       "       [0.5       ],\n",
       "       [0.32      ],\n",
       "       [0.47777778],\n",
       "       [0.5       ],\n",
       "       [0.52666667],\n",
       "       [0.36      ],\n",
       "       [0.30444444],\n",
       "       [0.48222222],\n",
       "       [0.2       ],\n",
       "       [0.37111111],\n",
       "       [0.29777778],\n",
       "       [0.84666667],\n",
       "       [0.53555556],\n",
       "       [0.34      ],\n",
       "       [0.41555556],\n",
       "       [0.29555556],\n",
       "       [0.27111111],\n",
       "       [0.29555556],\n",
       "       [0.43111111],\n",
       "       [0.47555556],\n",
       "       [0.31333333],\n",
       "       [0.18444444],\n",
       "       [0.38222222],\n",
       "       [0.38222222],\n",
       "       [0.07777778],\n",
       "       [0.30888889],\n",
       "       [0.37333333],\n",
       "       [0.31777778],\n",
       "       [0.29333333],\n",
       "       [0.05555556],\n",
       "       [0.38666667],\n",
       "       [0.33333333],\n",
       "       [0.20888889],\n",
       "       [0.38888889],\n",
       "       [0.52222222],\n",
       "       [0.36888889],\n",
       "       [0.19555556],\n",
       "       [0.34444444],\n",
       "       [0.37555556],\n",
       "       [0.40222222],\n",
       "       [1.        ],\n",
       "       [0.24888889],\n",
       "       [0.56222222],\n",
       "       [1.        ],\n",
       "       [0.28444444],\n",
       "       [0.31333333],\n",
       "       [0.12      ],\n",
       "       [0.34222222],\n",
       "       [0.25555556],\n",
       "       [0.27111111],\n",
       "       [0.26      ],\n",
       "       [0.32222222],\n",
       "       [0.56666667],\n",
       "       [0.53333333],\n",
       "       [0.32444444],\n",
       "       [0.40444444],\n",
       "       [0.43111111],\n",
       "       [0.1       ],\n",
       "       [0.42      ],\n",
       "       [1.        ],\n",
       "       [0.36      ],\n",
       "       [0.39111111],\n",
       "       [0.33333333],\n",
       "       [0.18666667],\n",
       "       [0.33333333],\n",
       "       [0.26888889],\n",
       "       [0.17111111],\n",
       "       [0.4       ],\n",
       "       [0.22666667],\n",
       "       [0.34666667],\n",
       "       [0.47111111],\n",
       "       [0.29111111],\n",
       "       [0.42444444],\n",
       "       [0.20222222],\n",
       "       [0.37111111],\n",
       "       [0.33555556],\n",
       "       [0.44444444],\n",
       "       [0.50888889],\n",
       "       [0.39777778],\n",
       "       [0.3       ],\n",
       "       [0.38222222],\n",
       "       [0.42222222],\n",
       "       [0.21777778],\n",
       "       [0.33111111],\n",
       "       [0.43111111],\n",
       "       [0.28444444],\n",
       "       [0.43555556],\n",
       "       [0.6       ],\n",
       "       [0.28444444],\n",
       "       [0.40666667],\n",
       "       [0.24666667],\n",
       "       [0.17777778],\n",
       "       [0.13333333],\n",
       "       [0.42888889],\n",
       "       [0.23555556],\n",
       "       [0.67111111],\n",
       "       [0.32444444],\n",
       "       [0.82888889],\n",
       "       [0.08444444],\n",
       "       [0.43111111],\n",
       "       [0.20222222],\n",
       "       [0.23111111],\n",
       "       [0.27333333],\n",
       "       [0.38      ],\n",
       "       [0.40222222],\n",
       "       [0.88444444],\n",
       "       [0.28444444],\n",
       "       [0.58888889],\n",
       "       [0.39555556],\n",
       "       [0.26222222],\n",
       "       [0.42      ],\n",
       "       [0.15777778],\n",
       "       [0.74888889],\n",
       "       [0.36444444],\n",
       "       [0.24444444],\n",
       "       [0.42      ],\n",
       "       [0.15333333],\n",
       "       [0.44444444],\n",
       "       [0.04888889],\n",
       "       [0.43777778],\n",
       "       [0.29333333],\n",
       "       [0.38888889],\n",
       "       [0.4       ],\n",
       "       [0.42888889],\n",
       "       [0.26888889],\n",
       "       [0.28444444],\n",
       "       [0.18888889],\n",
       "       [0.49111111],\n",
       "       [0.18444444],\n",
       "       [0.37555556],\n",
       "       [0.33333333],\n",
       "       [0.23111111],\n",
       "       [0.25777778],\n",
       "       [0.38444444],\n",
       "       [0.43777778],\n",
       "       [0.36444444],\n",
       "       [0.39777778],\n",
       "       [0.54666667],\n",
       "       [0.37555556],\n",
       "       [0.33111111],\n",
       "       [0.54666667],\n",
       "       [0.40888889],\n",
       "       [0.19555556],\n",
       "       [0.43333333],\n",
       "       [0.15333333],\n",
       "       [0.04888889],\n",
       "       [0.34444444],\n",
       "       [0.10444444],\n",
       "       [0.96222222],\n",
       "       [0.44888889],\n",
       "       [0.14888889],\n",
       "       [0.27555556],\n",
       "       [0.21111111],\n",
       "       [0.52444444],\n",
       "       [0.32      ],\n",
       "       [0.38888889],\n",
       "       [0.04444444],\n",
       "       [0.34666667],\n",
       "       [0.4       ],\n",
       "       [0.32666667],\n",
       "       [0.41555556],\n",
       "       [0.44444444],\n",
       "       [0.51111111],\n",
       "       [0.18666667],\n",
       "       [0.21111111],\n",
       "       [0.34      ],\n",
       "       [0.31777778],\n",
       "       [0.42444444],\n",
       "       [0.22      ],\n",
       "       [0.47555556],\n",
       "       [0.62888889],\n",
       "       [0.41333333],\n",
       "       [0.43555556],\n",
       "       [0.3       ],\n",
       "       [0.35333333],\n",
       "       [0.12      ],\n",
       "       [0.40666667],\n",
       "       [0.18      ],\n",
       "       [0.43777778],\n",
       "       [0.39111111],\n",
       "       [0.34444444],\n",
       "       [0.26222222],\n",
       "       [0.11555556],\n",
       "       [0.64      ],\n",
       "       [0.30222222],\n",
       "       [1.        ],\n",
       "       [0.41777778],\n",
       "       [0.42      ],\n",
       "       [0.36      ],\n",
       "       [0.30666667],\n",
       "       [0.07777778],\n",
       "       [0.36666667],\n",
       "       [0.40444444],\n",
       "       [0.35555556],\n",
       "       [0.25777778],\n",
       "       [0.51333333],\n",
       "       [0.36      ],\n",
       "       [0.52      ],\n",
       "       [0.20666667],\n",
       "       [1.        ],\n",
       "       [0.57777778],\n",
       "       [0.44444444],\n",
       "       [0.36444444],\n",
       "       [0.31111111],\n",
       "       [0.53333333],\n",
       "       [0.22666667],\n",
       "       [0.39555556],\n",
       "       [0.37333333],\n",
       "       [0.33111111],\n",
       "       [0.41777778]])"
      ]
     },
     "execution_count": 385,
     "metadata": {},
     "output_type": "execute_result"
    }
   ],
   "source": [
    "Y_scaled_train"
   ]
  },
  {
   "cell_type": "markdown",
   "metadata": {},
   "source": [
    "# Our sigmoid model returns values only between 0 & 1. So Y needs to be transformed"
   ]
  },
  {
   "cell_type": "code",
   "execution_count": 374,
   "metadata": {},
   "outputs": [],
   "source": [
    "minmax=MinMaxScaler()"
   ]
  },
  {
   "cell_type": "code",
   "execution_count": 375,
   "metadata": {},
   "outputs": [],
   "source": [
    "Y_scaled_train=minmax.fit_transform(Y_train.reshape(-1,1))"
   ]
  },
  {
   "cell_type": "code",
   "execution_count": 376,
   "metadata": {},
   "outputs": [],
   "source": [
    "Y_scaled_test=minmax.transform(Y_test.reshape(-1,1))"
   ]
  },
  {
   "cell_type": "code",
   "execution_count": 377,
   "metadata": {},
   "outputs": [
    {
     "name": "stdout",
     "output_type": "stream",
     "text": [
      "(404, 1)\n",
      "(102, 1)\n"
     ]
    }
   ],
   "source": [
    "print(Y_scaled_train.shape)\n",
    "print(Y_scaled_test.shape)"
   ]
  },
  {
   "cell_type": "code",
   "execution_count": 378,
   "metadata": {},
   "outputs": [
    {
     "name": "stdout",
     "output_type": "stream",
     "text": [
      "0.0\n",
      "0.0\n",
      "1.0\n",
      "1.0\n"
     ]
    }
   ],
   "source": [
    "print(Y_scaled_train.min())\n",
    "print(Y_scaled_test.min())\n",
    "print(Y_scaled_train.max())\n",
    "print(Y_scaled_train.max())"
   ]
  },
  {
   "cell_type": "markdown",
   "metadata": {},
   "source": [
    "# Now everything is ready"
   ]
  },
  {
   "cell_type": "code",
   "execution_count": 404,
   "metadata": {},
   "outputs": [],
   "source": [
    "sigmoid=sigmoid_model()"
   ]
  },
  {
   "cell_type": "code",
   "execution_count": 454,
   "metadata": {},
   "outputs": [
    {
     "data": {
      "application/vnd.jupyter.widget-view+json": {
       "model_id": "58e1dbac1d0a4b9e95cb370cf73a7408",
       "version_major": 2,
       "version_minor": 0
      },
      "text/plain": [
       "HBox(children=(IntProgress(value=0), HTML(value='')))"
      ]
     },
     "metadata": {},
     "output_type": "display_data"
    },
    {
     "name": "stdout",
     "output_type": "stream",
     "text": [
      "\n"
     ]
    },
    {
     "data": {
      "image/png": "[encoded data removed]",
      "text/plain": [
       "<Figure size 432x288 with 1 Axes>"
      ]
     },
     "metadata": {
      "needs_background": "light"
     },
     "output_type": "display_data"
    }
   ],
   "source": [
    "sigmoid.fit(X_scaled_train,Y_scaled_train,learning_rate=0.01,epochs=100,display_loss=True)"
   ]
  },
  {
   "cell_type": "code",
   "execution_count": 455,
   "metadata": {},
   "outputs": [],
   "source": [
    "Y_pred=sigmoid.predict(X_scaled_test)"
   ]
  },
  {
   "cell_type": "code",
   "execution_count": 456,
   "metadata": {},
   "outputs": [
    {
     "data": {
      "text/plain": [
       "(102, 1)"
      ]
     },
     "execution_count": 456,
     "metadata": {},
     "output_type": "execute_result"
    }
   ],
   "source": [
    "Y_pred.shape"
   ]
  },
  {
   "cell_type": "code",
   "execution_count": 457,
   "metadata": {},
   "outputs": [],
   "source": [
    "accuracy=mean_squared_error(Y_pred,Y_scaled_test)"
   ]
  },
  {
   "cell_type": "code",
   "execution_count": 458,
   "metadata": {},
   "outputs": [
    {
     "data": {
      "text/plain": [
       "0.010831960127334637"
      ]
     },
     "execution_count": 458,
     "metadata": {},
     "output_type": "execute_result"
    }
   ],
   "source": [
    "accuracy"
   ]
  },
  {
   "cell_type": "code",
   "execution_count": 461,
   "metadata": {},
   "outputs": [
    {
     "name": "stdout",
     "output_type": "stream",
     "text": [
      "The value of W is: [[-0.36435333 -0.07921733  0.14279165  0.12516393 -0.24970308  0.78126492\n",
      "   0.13517    -0.0289067   0.0810482  -0.07469281 -0.04003987  0.03808576\n",
      "  -0.41255656]]\n",
      "The value if B is: [-0.71338855]\n"
     ]
    }
   ],
   "source": [
    "print('The value of W is:',sigmoid.w)\n",
    "print('The value if B is:',sigmoid.b)"
   ]
  },
  {
   "cell_type": "code",
   "execution_count": null,
   "metadata": {},
   "outputs": [],
   "source": []
  }
 ],
 "metadata": {
  "kernelspec": {
   "display_name": "Python 3",
   "language": "python",
   "name": "python3"
  },
  "language_info": {
   "codemirror_mode": {
    "name": "ipython",
    "version": 3
   },
   "file_extension": ".py",
   "mimetype": "text/x-python",
   "name": "python",
   "nbconvert_exporter": "python",
   "pygments_lexer": "ipython3",
   "version": "3.7.4"
  }
 },
 "nbformat": 4,
 "nbformat_minor": 2
}
